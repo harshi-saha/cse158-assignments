{
 "cells": [
  {
   "cell_type": "markdown",
   "id": "79fe6895",
   "metadata": {},
   "source": [
    "#### CSE 158R / Assignment 1\n",
    "Harshita Saha"
   ]
  },
  {
   "cell_type": "markdown",
   "id": "e4582c92",
   "metadata": {},
   "source": [
    "#### Setup"
   ]
  },
  {
   "cell_type": "markdown",
   "id": "3cd91a81",
   "metadata": {},
   "source": [
    "Importing packages"
   ]
  },
  {
   "cell_type": "code",
   "execution_count": 1,
   "id": "301bf995",
   "metadata": {},
   "outputs": [],
   "source": [
    "import gzip\n",
    "from collections import defaultdict\n",
    "import math\n",
    "import scipy.optimize\n",
    "from sklearn import svm\n",
    "import numpy\n",
    "import string\n",
    "import random\n",
    "import string\n",
    "from sklearn import linear_model\n",
    "from nltk.corpus import stopwords\n",
    "from nltk.stem.porter import *"
   ]
  },
  {
   "cell_type": "code",
   "execution_count": 2,
   "id": "31cab31f",
   "metadata": {},
   "outputs": [],
   "source": [
    "import warnings\n",
    "warnings.filterwarnings(\"ignore\")"
   ]
  },
  {
   "cell_type": "markdown",
   "id": "ef40b8a2",
   "metadata": {},
   "source": [
    "Defining basic functions"
   ]
  },
  {
   "cell_type": "code",
   "execution_count": 3,
   "id": "33f967ad",
   "metadata": {},
   "outputs": [],
   "source": [
    "def assertFloat(x):\n",
    "    assert type(float(x)) == float\n",
    "\n",
    "def assertFloatList(items, N):\n",
    "    assert len(items) == N\n",
    "    assert [type(float(x)) for x in items] == [float]*N"
   ]
  },
  {
   "cell_type": "code",
   "execution_count": 4,
   "id": "3e25a33f",
   "metadata": {},
   "outputs": [],
   "source": [
    "def readGz(path):\n",
    "    for l in gzip.open(path, 'rt'):\n",
    "        yield eval(l)"
   ]
  },
  {
   "cell_type": "code",
   "execution_count": 5,
   "id": "f88efc3b",
   "metadata": {},
   "outputs": [],
   "source": [
    "def readCSV(path):\n",
    "    f = gzip.open(path, 'rt')\n",
    "    f.readline()\n",
    "    for l in f:\n",
    "        u,b,r = l.strip().split(',')\n",
    "        r = int(r)\n",
    "        yield u,b,r"
   ]
  },
  {
   "cell_type": "markdown",
   "id": "ae4c9e03",
   "metadata": {},
   "source": [
    "#### Some data structures that will be useful"
   ]
  },
  {
   "cell_type": "markdown",
   "id": "7443f9cf",
   "metadata": {},
   "source": [
    "Complete dataset"
   ]
  },
  {
   "cell_type": "code",
   "execution_count": 6,
   "id": "09ac1dc4",
   "metadata": {},
   "outputs": [],
   "source": [
    "allRatings = []\n",
    "for l in readCSV(\"train_Interactions.csv.gz\"):\n",
    "    allRatings.append(l)"
   ]
  },
  {
   "cell_type": "code",
   "execution_count": 7,
   "id": "e4717806",
   "metadata": {
    "scrolled": true
   },
   "outputs": [
    {
     "data": {
      "text/plain": [
       "200000"
      ]
     },
     "execution_count": 7,
     "metadata": {},
     "output_type": "execute_result"
    }
   ],
   "source": [
    "len(allRatings)"
   ]
  },
  {
   "cell_type": "markdown",
   "id": "e0f61b3c",
   "metadata": {},
   "source": [
    "Splitting data into training and validation set, and creating dictionaries on Training set"
   ]
  },
  {
   "cell_type": "code",
   "execution_count": 8,
   "id": "ca3c2a44",
   "metadata": {},
   "outputs": [],
   "source": [
    "ratingsTrain = allRatings[:190000]\n",
    "ratingsValid = allRatings[190000:]\n",
    "\n",
    "ratingsPerUser = defaultdict(list)\n",
    "ratingsPerItem = defaultdict(list)\n",
    "\n",
    "for u,b,r in ratingsTrain:\n",
    "    \n",
    "    # dictionary of users and the books they read with user ratings\n",
    "    ratingsPerUser[u].append((b,r))\n",
    "    \n",
    "    # dictionary of books and the users that read them with user ratings\n",
    "    ratingsPerItem[b].append((u,r))"
   ]
  },
  {
   "cell_type": "markdown",
   "id": "0f1138b9",
   "metadata": {},
   "source": [
    "#### Task 1: Read prediction    "
   ]
  },
  {
   "cell_type": "markdown",
   "id": "a5ac350f",
   "metadata": {},
   "source": [
    "List of popular books, and their counts (mostPopular), and set of top 65% of read books (return1)"
   ]
  },
  {
   "cell_type": "code",
   "execution_count": 48,
   "id": "87e03b83",
   "metadata": {},
   "outputs": [],
   "source": [
    "# copied from baseline code\n",
    "bookCount = defaultdict(int)\n",
    "totalRead = 0\n",
    "\n",
    "for user,book,_ in readCSV(\"train_Interactions.csv.gz\"):\n",
    "    bookCount[book] += 1\n",
    "    totalRead += 1\n",
    "\n",
    "mostPopular = [(bookCount[x], x) for x in bookCount]\n",
    "mostPopular.sort()\n",
    "mostPopular.reverse()\n",
    "\n",
    "return1 = set()\n",
    "count = 0\n",
    "\n",
    "# finding the top 65% of the most read books \n",
    "for ic, i in mostPopular:\n",
    "    count += ic\n",
    "    return1.add(i)\n",
    "    if count > int(totalRead*0.65): break"
   ]
  },
  {
   "cell_type": "markdown",
   "id": "a8c9380f",
   "metadata": {},
   "source": [
    "Creating data structures for validation set and adding negative pairs"
   ]
  },
  {
   "cell_type": "code",
   "execution_count": 10,
   "id": "2f86254d",
   "metadata": {},
   "outputs": [],
   "source": [
    "ratingsPerUserV = defaultdict(list)\n",
    "ratingsPerItemV = defaultdict(list)\n",
    "\n",
    "# dictionary of users and the books they read with user ratings\n",
    "for u,b,r in ratingsValid:\n",
    "    ratingsPerUserV[u].append((b,r))\n",
    "    \n",
    "# dictionary of books and the users that read them with user ratings\n",
    "for u,b,r in allRatings:\n",
    "    ratingsPerItemV[b].append((u,r))"
   ]
  },
  {
   "cell_type": "code",
   "execution_count": 11,
   "id": "ce38cf5e",
   "metadata": {},
   "outputs": [],
   "source": [
    "# all books in validation set\n",
    "bookIds = list(ratingsPerItemV.keys())\n",
    "\n",
    "# adding negative pairs (user, unread_book) to validation set\n",
    "for user in ratingsPerUserV.keys():\n",
    "    read_books = [i[0] for i in ratingsPerUserV[user]]\n",
    "    unread_book = numpy.random.choice([b for b in bookIds if b not in read_books])\n",
    "    ratingsValid.append((user, unread_book))"
   ]
  },
  {
   "cell_type": "code",
   "execution_count": 52,
   "id": "7ff9d85a",
   "metadata": {},
   "outputs": [
    {
     "data": {
      "text/plain": [
       "[('u74452117', 'b44922252', 3), ('u74452117', 'b66688293')]"
      ]
     },
     "execution_count": 52,
     "metadata": {},
     "output_type": "execute_result"
    }
   ],
   "source": [
    "[i for i in ratingsValid if i[0] == 'u74452117']"
   ]
  },
  {
   "cell_type": "markdown",
   "id": "e2e34c42",
   "metadata": {},
   "source": [
    "#### Creating helper functions for prediction"
   ]
  },
  {
   "cell_type": "markdown",
   "id": "158a9806",
   "metadata": {},
   "source": [
    "Jaccard related functions and inital calculation for threshold of jacc_user"
   ]
  },
  {
   "cell_type": "code",
   "execution_count": 12,
   "id": "8d8bcbcb",
   "metadata": {},
   "outputs": [],
   "source": [
    "def Jaccard(s1, s2):\n",
    "    numer = len(s1.intersection(s2))\n",
    "    denom = len(s1.union(s2))\n",
    "    if denom == 0:\n",
    "        return 0\n",
    "    return numer / denom"
   ]
  },
  {
   "cell_type": "code",
   "execution_count": 13,
   "id": "0dccef4d",
   "metadata": {},
   "outputs": [],
   "source": [
    "def jacc_user(u, i):\n",
    "    bprime = [j[0] for j in ratingsPerUser[u]]\n",
    "    users_read_b = [j[0] for j in ratingsPerItem[i]]\n",
    "    \n",
    "    jaccard_list = numpy.array([])\n",
    "    for b in bprime:\n",
    "        users_read_bprime = [j[0] for j in ratingsPerItem[b]]\n",
    "        jaccard = Jaccard(set(users_read_b), set(users_read_bprime))\n",
    "        jaccard_list = numpy.append(jaccard_list, jaccard)\n",
    "    \n",
    "    return jaccard_list"
   ]
  },
  {
   "cell_type": "code",
   "execution_count": 54,
   "id": "a99aa1d9",
   "metadata": {},
   "outputs": [
    {
     "data": {
      "text/plain": [
       "[('b61372131', 4),\n",
       " ('b09049778', 0),\n",
       " ('b66416013', 3),\n",
       " ('b13061166', 0),\n",
       " ('b03047230', 0),\n",
       " ('b11179371', 0),\n",
       " ('b30494145', 0),\n",
       " ('b66908318', 0),\n",
       " ('b95800909', 0),\n",
       " ('b79619792', 0),\n",
       " ('b88947899', 4),\n",
       " ('b08004121', 4),\n",
       " ('b76040943', 0),\n",
       " ('b09589765', 0),\n",
       " ('b79253970', 4),\n",
       " ('b26847239', 0),\n",
       " ('b79098002', 0),\n",
       " ('b22348421', 0)]"
      ]
     },
     "execution_count": 54,
     "metadata": {},
     "output_type": "execute_result"
    }
   ],
   "source": [
    "ratingsPerUser['u67805239']"
   ]
  },
  {
   "cell_type": "code",
   "execution_count": 56,
   "id": "aa846a93",
   "metadata": {},
   "outputs": [
    {
     "data": {
      "text/plain": [
       "[('u67805239', 4),\n",
       " ('u42487937', 2),\n",
       " ('u73059201', 4),\n",
       " ('u06042879', 3),\n",
       " ('u98143812', 4),\n",
       " ('u24081627', 5),\n",
       " ('u92909378', 3),\n",
       " ('u78225145', 2),\n",
       " ('u41155507', 3),\n",
       " ('u89709107', 2),\n",
       " ('u46593302', 4),\n",
       " ('u03476667', 5),\n",
       " ('u15273524', 4),\n",
       " ('u46965119', 3),\n",
       " ('u51751023', 5),\n",
       " ('u49766428', 4),\n",
       " ('u48089762', 4),\n",
       " ('u01071398', 2),\n",
       " ('u33561653', 3),\n",
       " ('u99811205', 0),\n",
       " ('u92511535', 3),\n",
       " ('u03379358', 4),\n",
       " ('u28242564', 5),\n",
       " ('u33896303', 3),\n",
       " ('u11915055', 1),\n",
       " ('u72002179', 1),\n",
       " ('u67652911', 4),\n",
       " ('u22497171', 4),\n",
       " ('u09299901', 5),\n",
       " ('u95030396', 5),\n",
       " ('u87998402', 2),\n",
       " ('u84517883', 4),\n",
       " ('u96564934', 3),\n",
       " ('u92595296', 1),\n",
       " ('u21056033', 4),\n",
       " ('u45796950', 2),\n",
       " ('u38301742', 3),\n",
       " ('u54426184', 1),\n",
       " ('u90105683', 2),\n",
       " ('u55760432', 4),\n",
       " ('u22387175', 3),\n",
       " ('u45944018', 4),\n",
       " ('u53021409', 5),\n",
       " ('u67181585', 5),\n",
       " ('u95278557', 3),\n",
       " ('u62772540', 5),\n",
       " ('u28332618', 2),\n",
       " ('u07301204', 3),\n",
       " ('u81545593', 4),\n",
       " ('u08830362', 3),\n",
       " ('u17968157', 1),\n",
       " ('u93476362', 3),\n",
       " ('u49555043', 4),\n",
       " ('u35109017', 2),\n",
       " ('u04867960', 5),\n",
       " ('u49468556', 5),\n",
       " ('u05271717', 4),\n",
       " ('u28613373', 2),\n",
       " ('u61132304', 4),\n",
       " ('u05419797', 4),\n",
       " ('u97896188', 4),\n",
       " ('u20496815', 5),\n",
       " ('u78460875', 3),\n",
       " ('u28393492', 3),\n",
       " ('u43951342', 5),\n",
       " ('u03222960', 5),\n",
       " ('u17465739', 3),\n",
       " ('u74301010', 4),\n",
       " ('u77019266', 3),\n",
       " ('u20409355', 4),\n",
       " ('u89898746', 0),\n",
       " ('u52615516', 3),\n",
       " ('u64965360', 4),\n",
       " ('u87623235', 2),\n",
       " ('u10486680', 4),\n",
       " ('u71442538', 0),\n",
       " ('u54970112', 3),\n",
       " ('u07934198', 3),\n",
       " ('u29161853', 3),\n",
       " ('u12983626', 0),\n",
       " ('u28643897', 4),\n",
       " ('u75035764', 5),\n",
       " ('u05243050', 4),\n",
       " ('u07977672', 4),\n",
       " ('u72379291', 2),\n",
       " ('u68108011', 5),\n",
       " ('u74972610', 2),\n",
       " ('u57025396', 4),\n",
       " ('u21124433', 3),\n",
       " ('u70379269', 3),\n",
       " ('u76366006', 0),\n",
       " ('u39915694', 1),\n",
       " ('u00942320', 4),\n",
       " ('u63406049', 4),\n",
       " ('u95654536', 4),\n",
       " ('u41229670', 5),\n",
       " ('u07219081', 3),\n",
       " ('u61897566', 1),\n",
       " ('u21520589', 4),\n",
       " ('u87366750', 5),\n",
       " ('u62261840', 4),\n",
       " ('u32166934', 4),\n",
       " ('u15845236', 4),\n",
       " ('u02847996', 4),\n",
       " ('u39201986', 4),\n",
       " ('u47176135', 4),\n",
       " ('u32191796', 3),\n",
       " ('u93026622', 2),\n",
       " ('u32610240', 4),\n",
       " ('u09618133', 3),\n",
       " ('u66765469', 4),\n",
       " ('u71562608', 4),\n",
       " ('u49798579', 4),\n",
       " ('u24156255', 3),\n",
       " ('u07626684', 2),\n",
       " ('u41539938', 5),\n",
       " ('u40376851', 5),\n",
       " ('u57167390', 4),\n",
       " ('u79533904', 5),\n",
       " ('u52881301', 0),\n",
       " ('u61307887', 5),\n",
       " ('u62443549', 5),\n",
       " ('u14900242', 5),\n",
       " ('u07706109', 4),\n",
       " ('u24875976', 0),\n",
       " ('u58128495', 3),\n",
       " ('u50590823', 4),\n",
       " ('u13002014', 0),\n",
       " ('u01638195', 4),\n",
       " ('u90609631', 5),\n",
       " ('u60015993', 4),\n",
       " ('u80108505', 5),\n",
       " ('u34508036', 3),\n",
       " ('u83896527', 0),\n",
       " ('u43474365', 3),\n",
       " ('u10186864', 3),\n",
       " ('u40248621', 4),\n",
       " ('u44294985', 4),\n",
       " ('u34251370', 3),\n",
       " ('u90702923', 4),\n",
       " ('u14736025', 2),\n",
       " ('u07199938', 4),\n",
       " ('u34376327', 1),\n",
       " ('u73247015', 2),\n",
       " ('u98576989', 3),\n",
       " ('u07085700', 3),\n",
       " ('u53518202', 3),\n",
       " ('u21716688', 3),\n",
       " ('u99062581', 3),\n",
       " ('u42425845', 4),\n",
       " ('u44228858', 4),\n",
       " ('u09648034', 2),\n",
       " ('u93017626', 0),\n",
       " ('u21013883', 3),\n",
       " ('u03384038', 5),\n",
       " ('u10854286', 5),\n",
       " ('u62994249', 4),\n",
       " ('u71724125', 3),\n",
       " ('u03060272', 3),\n",
       " ('u73104069', 3),\n",
       " ('u58944461', 2),\n",
       " ('u45959946', 5),\n",
       " ('u40783974', 5),\n",
       " ('u53853048', 0),\n",
       " ('u31770104', 3),\n",
       " ('u07978766', 5),\n",
       " ('u39594275', 4),\n",
       " ('u32302727', 4),\n",
       " ('u46738502', 4),\n",
       " ('u26129499', 4),\n",
       " ('u84127839', 3),\n",
       " ('u93089189', 0),\n",
       " ('u20513462', 5),\n",
       " ('u28488526', 4),\n",
       " ('u53536770', 5),\n",
       " ('u13701770', 1),\n",
       " ('u24460410', 4),\n",
       " ('u61366817', 3),\n",
       " ('u52441700', 4),\n",
       " ('u00614455', 1),\n",
       " ('u53489985', 4),\n",
       " ('u87573336', 4),\n",
       " ('u68531514', 4),\n",
       " ('u31156311', 5),\n",
       " ('u48513805', 4),\n",
       " ('u80458214', 1),\n",
       " ('u39798574', 1),\n",
       " ('u89486150', 3),\n",
       " ('u30759279', 2),\n",
       " ('u60761417', 5),\n",
       " ('u87005946', 3),\n",
       " ('u92011368', 5),\n",
       " ('u43490914', 2),\n",
       " ('u57863489', 3),\n",
       " ('u42959349', 5),\n",
       " ('u50872015', 4),\n",
       " ('u48667167', 4),\n",
       " ('u16364343', 3),\n",
       " ('u07240369', 4),\n",
       " ('u87953963', 5),\n",
       " ('u01106276', 4),\n",
       " ('u62779369', 1),\n",
       " ('u20901316', 4),\n",
       " ('u01463099', 3),\n",
       " ('u46611546', 5),\n",
       " ('u82434460', 1),\n",
       " ('u57729910', 3),\n",
       " ('u35388172', 4),\n",
       " ('u72772985', 4),\n",
       " ('u74302707', 4),\n",
       " ('u19829762', 4),\n",
       " ('u69357820', 3),\n",
       " ('u24627448', 0),\n",
       " ('u45373868', 4),\n",
       " ('u35238062', 3),\n",
       " ('u33279275', 3),\n",
       " ('u36221021', 5),\n",
       " ('u74588676', 3),\n",
       " ('u13272452', 2),\n",
       " ('u93187835', 1),\n",
       " ('u84104407', 4),\n",
       " ('u02612935', 2),\n",
       " ('u43616011', 2),\n",
       " ('u30715386', 4),\n",
       " ('u94601424', 4),\n",
       " ('u30118092', 4),\n",
       " ('u92313025', 3),\n",
       " ('u86627282', 3),\n",
       " ('u20576836', 0),\n",
       " ('u87032002', 3),\n",
       " ('u35379244', 0),\n",
       " ('u39916505', 4),\n",
       " ('u04346189', 4),\n",
       " ('u17469822', 3),\n",
       " ('u39779274', 3),\n",
       " ('u24054242', 5),\n",
       " ('u98980325', 4),\n",
       " ('u48546840', 5),\n",
       " ('u34899198', 3),\n",
       " ('u38854826', 5),\n",
       " ('u11099702', 5),\n",
       " ('u77087319', 3),\n",
       " ('u38043397', 2),\n",
       " ('u11268268', 4),\n",
       " ('u34864333', 4),\n",
       " ('u76489507', 4),\n",
       " ('u84677719', 5),\n",
       " ('u92224973', 4),\n",
       " ('u13836539', 4),\n",
       " ('u92278115', 4),\n",
       " ('u48391630', 4),\n",
       " ('u36673967', 5),\n",
       " ('u57041384', 3),\n",
       " ('u08088480', 1),\n",
       " ('u21385291', 5),\n",
       " ('u77818953', 5),\n",
       " ('u87542761', 3),\n",
       " ('u42317649', 3),\n",
       " ('u77737204', 4),\n",
       " ('u73816851', 0),\n",
       " ('u51394014', 2),\n",
       " ('u97027336', 3),\n",
       " ('u11621223', 0),\n",
       " ('u18890145', 2),\n",
       " ('u81363858', 5),\n",
       " ('u90994837', 2),\n",
       " ('u74026537', 5),\n",
       " ('u26918913', 2),\n",
       " ('u01824015', 4),\n",
       " ('u23582351', 0),\n",
       " ('u44030786', 4),\n",
       " ('u36100138', 4),\n",
       " ('u32816001', 4),\n",
       " ('u61326253', 5),\n",
       " ('u02376300', 3),\n",
       " ('u42737892', 5),\n",
       " ('u74239087', 2),\n",
       " ('u30806009', 3),\n",
       " ('u89732246', 0),\n",
       " ('u54632797', 4),\n",
       " ('u17796979', 5),\n",
       " ('u91289077', 1),\n",
       " ('u05235592', 3),\n",
       " ('u58633602', 5),\n",
       " ('u12798255', 3),\n",
       " ('u63351603', 5),\n",
       " ('u93775605', 2),\n",
       " ('u55940068', 3),\n",
       " ('u51363556', 3),\n",
       " ('u91947449', 5),\n",
       " ('u70736453', 4),\n",
       " ('u09441867', 4),\n",
       " ('u52874739', 4),\n",
       " ('u63369466', 4),\n",
       " ('u81456070', 4),\n",
       " ('u09894186', 2),\n",
       " ('u23816269', 4),\n",
       " ('u91590805', 4),\n",
       " ('u60413091', 5),\n",
       " ('u47340365', 5),\n",
       " ('u94309193', 4),\n",
       " ('u70379483', 4),\n",
       " ('u46260999', 5),\n",
       " ('u03804840', 3),\n",
       " ('u01012215', 5),\n",
       " ('u59157206', 4),\n",
       " ('u61269446', 3),\n",
       " ('u21325396', 5),\n",
       " ('u50491431', 3),\n",
       " ('u31311161', 4),\n",
       " ('u79151084', 1),\n",
       " ('u81528217', 5),\n",
       " ('u94503926', 3),\n",
       " ('u64662977', 5),\n",
       " ('u72768206', 5),\n",
       " ('u06431119', 0),\n",
       " ('u15480196', 4),\n",
       " ('u92438328', 3),\n",
       " ('u42144232', 1),\n",
       " ('u69715416', 2),\n",
       " ('u65030356', 0),\n",
       " ('u26716074', 3),\n",
       " ('u27524637', 5),\n",
       " ('u84509276', 4),\n",
       " ('u16132576', 3),\n",
       " ('u88246663', 2),\n",
       " ('u34499606', 2),\n",
       " ('u07687298', 5),\n",
       " ('u72779856', 3),\n",
       " ('u93345803', 4),\n",
       " ('u52785240', 1),\n",
       " ('u07077753', 5),\n",
       " ('u60476786', 3),\n",
       " ('u37485722', 5),\n",
       " ('u40018391', 4),\n",
       " ('u56579723', 4),\n",
       " ('u04552848', 5),\n",
       " ('u11287990', 3),\n",
       " ('u15212012', 2),\n",
       " ('u15325951', 4),\n",
       " ('u69755750', 3),\n",
       " ('u82561004', 5),\n",
       " ('u86308891', 2),\n",
       " ('u41779809', 4),\n",
       " ('u31140288', 3),\n",
       " ('u50896822', 3),\n",
       " ('u00111518', 4),\n",
       " ('u55537243', 4),\n",
       " ('u22721766', 1),\n",
       " ('u58883116', 5),\n",
       " ('u80993836', 4),\n",
       " ('u93245773', 3),\n",
       " ('u49328949', 5),\n",
       " ('u62421718', 3),\n",
       " ('u36256752', 4),\n",
       " ('u03241020', 3),\n",
       " ('u45159912', 3),\n",
       " ('u15192312', 3),\n",
       " ('u38035670', 4),\n",
       " ('u92688778', 0),\n",
       " ('u63576642', 0),\n",
       " ('u99156633', 0),\n",
       " ('u68551141', 2),\n",
       " ('u36300067', 4),\n",
       " ('u77573885', 4),\n",
       " ('u68350605', 4),\n",
       " ('u59180500', 5),\n",
       " ('u52175326', 2),\n",
       " ('u71834505', 5),\n",
       " ('u01465624', 3),\n",
       " ('u44855451', 0),\n",
       " ('u58055472', 3),\n",
       " ('u74280480', 4),\n",
       " ('u15356321', 3),\n",
       " ('u49928458', 4),\n",
       " ('u18822429', 2),\n",
       " ('u83363542', 4),\n",
       " ('u11499326', 4),\n",
       " ('u69544334', 3),\n",
       " ('u94542033', 5),\n",
       " ('u20490525', 5),\n",
       " ('u80209244', 4),\n",
       " ('u48572060', 5),\n",
       " ('u63965046', 4),\n",
       " ('u01100231', 3),\n",
       " ('u83959085', 4),\n",
       " ('u37067198', 3),\n",
       " ('u87799062', 1),\n",
       " ('u28788669', 3),\n",
       " ('u86628952', 4),\n",
       " ('u96486339', 4),\n",
       " ('u80414310', 0),\n",
       " ('u33197835', 1),\n",
       " ('u18848158', 4),\n",
       " ('u29737522', 5),\n",
       " ('u78012510', 3),\n",
       " ('u17054218', 3),\n",
       " ('u24245377', 2),\n",
       " ('u61107512', 4),\n",
       " ('u43462128', 5),\n",
       " ('u79693294', 2),\n",
       " ('u00394435', 2),\n",
       " ('u26839529', 5),\n",
       " ('u55040438', 4),\n",
       " ('u69167162', 4),\n",
       " ('u50697764', 4),\n",
       " ('u37384933', 5),\n",
       " ('u44143300', 4),\n",
       " ('u75675518', 4),\n",
       " ('u28866517', 2),\n",
       " ('u53156902', 4),\n",
       " ('u26130832', 3),\n",
       " ('u69458514', 4),\n",
       " ('u41786010', 5),\n",
       " ('u38576263', 5),\n",
       " ('u55163843', 4),\n",
       " ('u26486471', 4),\n",
       " ('u76521824', 3),\n",
       " ('u30529070', 2),\n",
       " ('u73425848', 3),\n",
       " ('u22116996', 4),\n",
       " ('u27686873', 5),\n",
       " ('u20491231', 4),\n",
       " ('u10094684', 3),\n",
       " ('u93815296', 4),\n",
       " ('u72346016', 3),\n",
       " ('u61395209', 2),\n",
       " ('u55694722', 5),\n",
       " ('u06418798', 5),\n",
       " ('u18841473', 4)]"
      ]
     },
     "execution_count": 56,
     "metadata": {},
     "output_type": "execute_result"
    }
   ],
   "source": [
    "ratingsPerItem['b61372131']"
   ]
  },
  {
   "cell_type": "code",
   "execution_count": 14,
   "id": "0d618964",
   "metadata": {},
   "outputs": [],
   "source": [
    "def jacc_item(u, i):\n",
    "    cprime = [j[0] for j in ratingsPerItem[i]]\n",
    "    items_read_c = [j[0] for j in ratingsPerUser[u]]\n",
    "    \n",
    "    jaccard_list = numpy.array([])\n",
    "    for c in cprime:\n",
    "        items_read_cprime = [j[0] for j in ratingsPerUser[c]]\n",
    "        jaccard = Jaccard(set(items_read_c), set(items_read_cprime))\n",
    "        jaccard_list = numpy.append(jaccard_list, jaccard)\n",
    "    \n",
    "    return jaccard_list"
   ]
  },
  {
   "cell_type": "markdown",
   "id": "916b04c6",
   "metadata": {},
   "source": [
    "Creating threshold for Jaccard similarity"
   ]
  },
  {
   "cell_type": "code",
   "execution_count": 15,
   "id": "e81f96ac",
   "metadata": {},
   "outputs": [],
   "source": [
    "jaccard_list_u = numpy.array([])\n",
    "\n",
    "for i in ratingsValid:\n",
    "    user = i[0]\n",
    "    book = i[1]\n",
    "    jaccard_list_u = numpy.append(jaccard_list_u, jacc_user(user, book))"
   ]
  },
  {
   "cell_type": "code",
   "execution_count": 16,
   "id": "3e830afe",
   "metadata": {},
   "outputs": [
    {
     "data": {
      "text/plain": [
       "0.0035211267605633804"
      ]
     },
     "execution_count": 16,
     "metadata": {},
     "output_type": "execute_result"
    }
   ],
   "source": [
    "threshold_u = numpy.percentile(jaccard_list_u, 85)\n",
    "threshold_u # 0.0035087719298245615"
   ]
  },
  {
   "cell_type": "markdown",
   "id": "85c4e76e",
   "metadata": {},
   "source": [
    "Popularity related function and dictionary of book IDs and corresponding reads"
   ]
  },
  {
   "cell_type": "code",
   "execution_count": 17,
   "id": "b845f0b5",
   "metadata": {},
   "outputs": [],
   "source": [
    "dict_books = [i[1] for i in mostPopular]\n",
    "dict_vals = [i[0] for i in mostPopular]\n",
    "dict_pop = {dict_books[i]: dict_vals[i] for i in range(len(dict_books))}"
   ]
  },
  {
   "cell_type": "code",
   "execution_count": 18,
   "id": "ec786ca1",
   "metadata": {},
   "outputs": [],
   "source": [
    "def popularity(book): \n",
    "    if book in dict_pop.keys():\n",
    "        return dict_pop[book]\n",
    "    else:\n",
    "        return 0"
   ]
  },
  {
   "cell_type": "markdown",
   "id": "0447dbb7",
   "metadata": {},
   "source": [
    "#### Starting to build up to predictions"
   ]
  },
  {
   "cell_type": "markdown",
   "id": "3902a153",
   "metadata": {},
   "source": [
    "Defining feature function"
   ]
  },
  {
   "cell_type": "code",
   "execution_count": 59,
   "id": "012c95fc",
   "metadata": {},
   "outputs": [
    {
     "data": {
      "text/plain": [
       "('u40016204', 'b23590291')"
      ]
     },
     "execution_count": 59,
     "metadata": {},
     "output_type": "execute_result"
    }
   ],
   "source": [
    "ratingsValid[-10]"
   ]
  },
  {
   "cell_type": "code",
   "execution_count": 60,
   "id": "6519ff01",
   "metadata": {},
   "outputs": [
    {
     "data": {
      "text/plain": [
       "('u16245954', 'b51242397', 5)"
      ]
     },
     "execution_count": 60,
     "metadata": {},
     "output_type": "execute_result"
    }
   ],
   "source": [
    "ratingsValid[10]"
   ]
  },
  {
   "cell_type": "code",
   "execution_count": 61,
   "id": "a1eb7e85",
   "metadata": {},
   "outputs": [
    {
     "data": {
      "text/plain": [
       "[('u16245954', 'b51242397', 5), ('u16245954', 'b36794167')]"
      ]
     },
     "execution_count": 61,
     "metadata": {},
     "output_type": "execute_result"
    }
   ],
   "source": [
    "[i for i in ratingsValid if i[0] == 'u16245954']"
   ]
  },
  {
   "cell_type": "code",
   "execution_count": 19,
   "id": "1c9218bd",
   "metadata": {},
   "outputs": [],
   "source": [
    "def feat(u, i):\n",
    "    pop = popularity(i) \n",
    "    jacc_u = jacc_user(u, i)\n",
    "    jacc_i = jacc_item(u, i)\n",
    "    if len(jacc_u) == 0:\n",
    "        jacc_u = 0\n",
    "    if len(jacc_i) == 0:\n",
    "        jacc_i = 0\n",
    "    return [1] + [pop, numpy.max(jacc_u), numpy.max(jacc_i)]"
   ]
  },
  {
   "cell_type": "markdown",
   "id": "11f74d0c",
   "metadata": {},
   "source": [
    "Creating list of feature values for validation set"
   ]
  },
  {
   "cell_type": "code",
   "execution_count": 20,
   "id": "46054b21",
   "metadata": {},
   "outputs": [
    {
     "data": {
      "text/plain": [
       "[4, 4, 4, 4, 4, 4, 4, 4, 4, 4]"
      ]
     },
     "execution_count": 20,
     "metadata": {},
     "output_type": "execute_result"
    }
   ],
   "source": [
    "X1 = [feat(d[0], d[1]) for d in ratingsValid] \n",
    "[len(i) for i in X1[:10]]"
   ]
  },
  {
   "cell_type": "markdown",
   "id": "b9c91802",
   "metadata": {},
   "source": [
    "Creating list of true read values for validation set"
   ]
  },
  {
   "cell_type": "code",
   "execution_count": 21,
   "id": "f1fa8cd8",
   "metadata": {},
   "outputs": [],
   "source": [
    "y_read = [1]*len(ratingsValid[:10000])\n",
    "y_unread = [0]*len(ratingsValid[10000:])\n",
    "\n",
    "y1 = numpy.concatenate([y_read, y_unread])"
   ]
  },
  {
   "cell_type": "markdown",
   "id": "81018948",
   "metadata": {},
   "source": [
    "Conducting logistic regression and generating model"
   ]
  },
  {
   "cell_type": "code",
   "execution_count": 22,
   "id": "1c25c554",
   "metadata": {},
   "outputs": [
    {
     "data": {
      "text/plain": [
       "LogisticRegression(C=1, class_weight='balanced')"
      ]
     },
     "execution_count": 22,
     "metadata": {},
     "output_type": "execute_result"
    }
   ],
   "source": [
    "mod1 = linear_model.LogisticRegression(C=1, class_weight = 'balanced')\n",
    "mod1.fit(X1, y1)"
   ]
  },
  {
   "cell_type": "markdown",
   "id": "d927b16e",
   "metadata": {},
   "source": [
    "Generating effective threshold for Jaccard similarity of jacc_user"
   ]
  },
  {
   "cell_type": "code",
   "execution_count": 23,
   "id": "5221b7c0",
   "metadata": {
    "scrolled": true
   },
   "outputs": [
    {
     "data": {
      "text/plain": [
       "0.002288732394366197"
      ]
     },
     "execution_count": 23,
     "metadata": {},
     "output_type": "execute_result"
    }
   ],
   "source": [
    "threshold_u # 0.0035087719298245615\n",
    "threshold_u*0.65 # 0.002280701754385965"
   ]
  },
  {
   "cell_type": "markdown",
   "id": "fac55964",
   "metadata": {},
   "source": [
    "Finding the number of times last book in set return1 was read"
   ]
  },
  {
   "cell_type": "code",
   "execution_count": 24,
   "id": "6e34f641",
   "metadata": {},
   "outputs": [],
   "source": [
    "# copied from baseline code\n",
    "return_read = []\n",
    "count_read = 0\n",
    "\n",
    "# finding the top 65% of the most read books \n",
    "for ic, i in mostPopular:\n",
    "    count_read += ic\n",
    "    return_read.append(i)\n",
    "    if count_read > int(totalRead*0.65): break"
   ]
  },
  {
   "cell_type": "code",
   "execution_count": 25,
   "id": "2b37091d",
   "metadata": {},
   "outputs": [
    {
     "data": {
      "text/plain": [
       "'b19310775'"
      ]
     },
     "execution_count": 25,
     "metadata": {},
     "output_type": "execute_result"
    }
   ],
   "source": [
    "return_read[-1] # 'b19310775'"
   ]
  },
  {
   "cell_type": "code",
   "execution_count": 26,
   "id": "1cc1087d",
   "metadata": {},
   "outputs": [
    {
     "data": {
      "text/plain": [
       "True"
      ]
     },
     "execution_count": 26,
     "metadata": {},
     "output_type": "execute_result"
    }
   ],
   "source": [
    "len(return_read) == numpy.sum([1 for i in return_read if i in return1])"
   ]
  },
  {
   "cell_type": "code",
   "execution_count": 27,
   "id": "c320cc5a",
   "metadata": {},
   "outputs": [
    {
     "data": {
      "text/plain": [
       "True"
      ]
     },
     "execution_count": 27,
     "metadata": {},
     "output_type": "execute_result"
    }
   ],
   "source": [
    "len(return_read) == len(return1)"
   ]
  },
  {
   "cell_type": "code",
   "execution_count": 28,
   "id": "38290091",
   "metadata": {
    "scrolled": true
   },
   "outputs": [
    {
     "data": {
      "text/plain": [
       "44"
      ]
     },
     "execution_count": 28,
     "metadata": {},
     "output_type": "execute_result"
    }
   ],
   "source": [
    "top_65_count = dict_pop[return_read[-1]]\n",
    "top_65_count # 44"
   ]
  },
  {
   "cell_type": "markdown",
   "id": "687683bc",
   "metadata": {},
   "source": [
    "#### Defining predictor function"
   ]
  },
  {
   "cell_type": "code",
   "execution_count": 29,
   "id": "a0ab3c5f",
   "metadata": {},
   "outputs": [],
   "source": [
    "def predictor(user, book): # 0.7612 on seen data in leaderboard\n",
    "    \n",
    "    # books read by validation user in training set\n",
    "    bprime = [j[0] for j in ratingsPerUser[user]]\n",
    "    \n",
    "    # if no books read by user in training set\n",
    "    if len(bprime) == 0:\n",
    "        # predicting based on if book is in the top 65% most read books\n",
    "        if book in return1: \n",
    "            return 1\n",
    "        elif popularity(book) >= top_65_count:\n",
    "            return 1\n",
    "        \n",
    "        # predicting based on logistic regressor\n",
    "        else:\n",
    "            X = [feat(user, book)] \n",
    "            return mod1.predict(X)[0]\n",
    "    \n",
    "    # if books read by user in training set\n",
    "    # predicting based on jacc_user threshold or if book is in the top 65% most read books\n",
    "    if numpy.mean(jacc_user(user, book)) >= threshold_u*0.65 or book in return1: \n",
    "        return 1\n",
    "    elif popularity(book) >= top_65_count:\n",
    "        return 1\n",
    "    \n",
    "    # predicting based on logistic regressor\n",
    "    else:\n",
    "        X1 = [feat(user, book)] \n",
    "        return mod1.predict(X1)[0]"
   ]
  },
  {
   "cell_type": "markdown",
   "id": "7bff8fed",
   "metadata": {},
   "source": [
    "#### Writing read predictions to file"
   ]
  },
  {
   "cell_type": "code",
   "execution_count": 30,
   "id": "09fdd715",
   "metadata": {},
   "outputs": [],
   "source": [
    "predictions = open(\"predictions_Read.csv\", 'w')\n",
    "for l in open(\"pairs_Read.csv\"):\n",
    "    if l.startswith(\"userID\"):\n",
    "        predictions.write(l)\n",
    "        continue\n",
    "    u,b = l.strip().split(',')\n",
    "    prediction = str(predictor(u, b))\n",
    "    predictions.write(u + \",\" + b + \",\" + prediction + \"\\n\")\n",
    "\n",
    "predictions.close()"
   ]
  },
  {
   "cell_type": "markdown",
   "id": "f567822a",
   "metadata": {},
   "source": [
    "#### Task 2: Category prediction"
   ]
  },
  {
   "cell_type": "markdown",
   "id": "05492860",
   "metadata": {},
   "source": [
    "#### Setup"
   ]
  },
  {
   "cell_type": "code",
   "execution_count": 31,
   "id": "2bf8b34f",
   "metadata": {},
   "outputs": [],
   "source": [
    "data = []\n",
    "\n",
    "for d in readGz(\"train_Category.json.gz\"):\n",
    "    data.append(d)"
   ]
  },
  {
   "cell_type": "markdown",
   "id": "edcebc9c",
   "metadata": {},
   "source": [
    "Creating list of stopwords to exclude in generating prediction"
   ]
  },
  {
   "cell_type": "code",
   "execution_count": 32,
   "id": "ef5a74c4",
   "metadata": {},
   "outputs": [],
   "source": [
    "stop = stopwords.words('english')"
   ]
  },
  {
   "cell_type": "markdown",
   "id": "6ed4607e",
   "metadata": {},
   "source": [
    "Generating dictionary of words without punctuation, and their counts, for the dataset, while ignoring stop words "
   ]
  },
  {
   "cell_type": "code",
   "execution_count": 33,
   "id": "7b1adcea",
   "metadata": {},
   "outputs": [],
   "source": [
    "wordCount = defaultdict(int)\n",
    "punctuation = set(string.punctuation)\n",
    "\n",
    "# removing punctuation from words and recording occurences into dictionary\n",
    "for d in data:\n",
    "    r = ''.join([c for c in d['review_text'].lower() if not c in punctuation])\n",
    "    for w in r.split():\n",
    "        if w not in stop:\n",
    "            wordCount[w] += 1"
   ]
  },
  {
   "cell_type": "code",
   "execution_count": 34,
   "id": "69c07082",
   "metadata": {},
   "outputs": [],
   "source": [
    "counts = [(wordCount[w], w) for w in wordCount]\n",
    "counts.sort()\n",
    "counts.reverse()"
   ]
  },
  {
   "cell_type": "code",
   "execution_count": 35,
   "id": "0c2f9b41",
   "metadata": {},
   "outputs": [
    {
     "data": {
      "text/plain": [
       "[(145127, 'book'),\n",
       " (69804, 'read'),\n",
       " (66795, 'story'),\n",
       " (61712, 'one'),\n",
       " (55357, 'like'),\n",
       " (47035, 'really'),\n",
       " (40546, 'characters'),\n",
       " (37565, 'series'),\n",
       " (36309, 'love'),\n",
       " (31860, 'first')]"
      ]
     },
     "execution_count": 35,
     "metadata": {},
     "output_type": "execute_result"
    }
   ],
   "source": [
    "counts[:10]"
   ]
  },
  {
   "cell_type": "markdown",
   "id": "e1a346b5",
   "metadata": {},
   "source": [
    "Generating list, set, and dictionary of size 7000"
   ]
  },
  {
   "cell_type": "code",
   "execution_count": 36,
   "id": "739369d7",
   "metadata": {},
   "outputs": [],
   "source": [
    "words = [x[1] for x in counts[:7000]]\n",
    "wordId = dict(zip(words, range(len(words))))\n",
    "wordSet = set(words)"
   ]
  },
  {
   "cell_type": "markdown",
   "id": "92ef5667",
   "metadata": {},
   "source": [
    "#### Starting to build up to predictions"
   ]
  },
  {
   "cell_type": "markdown",
   "id": "7c8f6c8e",
   "metadata": {},
   "source": [
    "Defining feature function "
   ]
  },
  {
   "cell_type": "code",
   "execution_count": 37,
   "id": "7bcbe507",
   "metadata": {},
   "outputs": [],
   "source": [
    "def feature(datum):\n",
    "    feat = [0]*len(words)\n",
    "    r = ''.join([c for c in datum['review_text'].lower() if not c in punctuation])\n",
    "    for w in r.split():\n",
    "        if w in wordSet:\n",
    "            feat[wordId[w]] += 1\n",
    "    feat.append(1) # offset\n",
    "    return feat"
   ]
  },
  {
   "cell_type": "markdown",
   "id": "f92baf97",
   "metadata": {},
   "source": [
    "Generating feature list and true category list for data"
   ]
  },
  {
   "cell_type": "code",
   "execution_count": 38,
   "id": "b114fade",
   "metadata": {},
   "outputs": [],
   "source": [
    "X2 = [feature(d) for d in data]\n",
    "y2 = [d['genreID'] for d in data]"
   ]
  },
  {
   "cell_type": "markdown",
   "id": "790a8e94",
   "metadata": {},
   "source": [
    "Splitting X2 and y2 into training and validation sets"
   ]
  },
  {
   "cell_type": "code",
   "execution_count": 39,
   "id": "fa32fd85",
   "metadata": {},
   "outputs": [],
   "source": [
    "Xtrain = X2[:9*len(X2)//10]\n",
    "ytrain = y2[:9*len(y2)//10]\n",
    "Xvalid = X2[9*len(X2)//10:]\n",
    "yvalid = y2[9*len(y2)//10:]"
   ]
  },
  {
   "cell_type": "markdown",
   "id": "1b234900",
   "metadata": {},
   "source": [
    "#### Generating prediction model"
   ]
  },
  {
   "cell_type": "code",
   "execution_count": 40,
   "id": "47151030",
   "metadata": {},
   "outputs": [
    {
     "data": {
      "text/plain": [
       "LogisticRegression(C=1)"
      ]
     },
     "execution_count": 40,
     "metadata": {},
     "output_type": "execute_result"
    }
   ],
   "source": [
    "# 0.7222 on seen data in leaderboard\n",
    "mod2 = linear_model.LogisticRegression(C=1) \n",
    "mod2.fit(Xtrain,ytrain)"
   ]
  },
  {
   "cell_type": "markdown",
   "id": "da8ead89",
   "metadata": {},
   "source": [
    "#### Writing category predictions to file"
   ]
  },
  {
   "cell_type": "code",
   "execution_count": 41,
   "id": "bdef6f84",
   "metadata": {},
   "outputs": [],
   "source": [
    "data_test = []\n",
    "\n",
    "for d in readGz(\"test_Category.json.gz\"):\n",
    "    data_test.append(d)"
   ]
  },
  {
   "cell_type": "code",
   "execution_count": 42,
   "id": "4df4bf0a",
   "metadata": {},
   "outputs": [],
   "source": [
    "Xtest = [feature(d) for d in data_test]\n",
    "pred_test = mod2.predict(Xtest)"
   ]
  },
  {
   "cell_type": "code",
   "execution_count": 43,
   "id": "b7d37ad0",
   "metadata": {},
   "outputs": [
    {
     "data": {
      "text/plain": [
       "7001"
      ]
     },
     "execution_count": 43,
     "metadata": {},
     "output_type": "execute_result"
    }
   ],
   "source": [
    "len(feature(data_test[0]))"
   ]
  },
  {
   "cell_type": "code",
   "execution_count": 44,
   "id": "9f3526e2",
   "metadata": {},
   "outputs": [],
   "source": [
    "predictions = open(\"predictions_Category.csv\", 'w')\n",
    "pos = 0\n",
    "\n",
    "for l in open(\"pairs_Category.csv\"):\n",
    "    if l.startswith(\"userID\"):\n",
    "        predictions.write(l)\n",
    "        continue\n",
    "    u,b = l.strip().split(',')\n",
    "    _ = predictions.write(u + ',' + b + ',' + str(pred_test[pos]) + '\\n')\n",
    "    pos += 1\n",
    "\n",
    "predictions.close()"
   ]
  },
  {
   "cell_type": "code",
   "execution_count": null,
   "id": "3fb17822",
   "metadata": {},
   "outputs": [],
   "source": []
  }
 ],
 "metadata": {
  "kernelspec": {
   "display_name": "Python 3 (ipykernel)",
   "language": "python",
   "name": "python3"
  },
  "language_info": {
   "codemirror_mode": {
    "name": "ipython",
    "version": 3
   },
   "file_extension": ".py",
   "mimetype": "text/x-python",
   "name": "python",
   "nbconvert_exporter": "python",
   "pygments_lexer": "ipython3",
   "version": "3.9.12"
  }
 },
 "nbformat": 4,
 "nbformat_minor": 5
}
